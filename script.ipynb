{
 "cells": [
  {
   "cell_type": "code",
   "execution_count": 80,
   "metadata": {},
   "outputs": [],
   "source": [
    "from pyspark.sql.types import *\n",
    "import pyspark.sql.functions as F\n",
    "from pyspark.context import SparkContext\n",
    "from pyspark.sql import SparkSession"
   ]
  },
  {
   "cell_type": "code",
   "execution_count": 81,
   "metadata": {},
   "outputs": [],
   "source": [
    "spark = SparkSession.builder.appName(\"teste\").config(\"spark.some.config.option\", \"some-value\").getOrCreate()"
   ]
  },
  {
   "cell_type": "code",
   "execution_count": 82,
   "metadata": {},
   "outputs": [],
   "source": [
    "# mapeando schema do arquivo\n",
    "departamentSchema = StructType([\n",
    "    StructField('Date (MM/DD/YYYY)', StringType(), False),\n",
    "    StructField('Flight Number', StringType(), False),\n",
    "    StructField('Destination Airport', StringType(), False),\n",
    "    StructField('Actual elapsed time (Minutes)', StringType(), False) \n",
    "\n",
    "])"
   ]
  },
  {
   "cell_type": "code",
   "execution_count": 83,
   "metadata": {},
   "outputs": [],
   "source": [
    "# Leitura do arquivo csv\n",
    "departament_df = spark.read.format('csv').options(Header=True).load('./dataFile/AA_DFW_2014_Departures_Short.csv', schema=departamentSchema)"
   ]
  },
  {
   "cell_type": "code",
   "execution_count": 85,
   "metadata": {},
   "outputs": [
    {
     "name": "stdout",
     "output_type": "stream",
     "text": [
      "O arquivo contém :  157198 linhas\n"
     ]
    }
   ],
   "source": [
    "# Renomeando colunas do dataframe\n",
    "departament_df = departament_df.withColumnRenamed('Date (MM/DD/YYYY)', 'data')\\\n",
    ".withColumnRenamed('Flight Number', 'flight_number')\\\n",
    ".withColumnRenamed('Destination Airport', 'destination_airport')\\\n",
    ".withColumnRenamed('Actual elapsed time (Minutes)', 'actual_elapsed_time')\n",
    "\n",
    "# Convertendo a String da coluna data para o formato date\n",
    "departament_df = departament_df.withColumn('data', F.to_date(departament_df.data,'dd/mm/yyyy' ))\n",
    "\n",
    "# Verificando a quantidade de registros do dataframe\n",
    "print('O arquivo contém : ' , departament_df.count() , 'linhas')"
   ]
  },
  {
   "cell_type": "code",
   "execution_count": 86,
   "metadata": {},
   "outputs": [
    {
     "name": "stdout",
     "output_type": "stream",
     "text": [
      "O dataframe filtrado contém :  2798 linhas\n"
     ]
    }
   ],
   "source": [
    "# Return rows where 'Destination Airport' equals 'STL'\n",
    "stl_df = departament_df.filter(departament_df.destination_airport.like('STL'))\n",
    "print('O dataframe filtrado contém : ' , stl_df.count() , 'linhas')"
   ]
  },
  {
   "cell_type": "code",
   "execution_count": 87,
   "metadata": {},
   "outputs": [],
   "source": [
    "# Selecionando apenas uma coluna\n",
    "filter_col_df = stl_df.select('flight_number')"
   ]
  },
  {
   "cell_type": "code",
   "execution_count": 89,
   "metadata": {},
   "outputs": [],
   "source": [
    "# With Column date\n",
    "withColumn_df = departament_df.withColumn('ano', F.year('data'))"
   ]
  },
  {
   "cell_type": "code",
   "execution_count": 93,
   "metadata": {},
   "outputs": [
    {
     "data": {
      "text/plain": [
       "DataFrame[data: date, flight_number: int, destination_airport: string, actual_elapsed_time: string, ano: int]"
      ]
     },
     "execution_count": 93,
     "metadata": {},
     "output_type": "execute_result"
    }
   ],
   "source": [
    "withColumn_df.withColumn('flight_number', withColumn_df['flight_number'].cast(IntegerType()))"
   ]
  },
  {
   "cell_type": "code",
   "execution_count": 98,
   "metadata": {},
   "outputs": [
    {
     "name": "stdout",
     "output_type": "stream",
     "text": [
      "+----+\n",
      "| ano|\n",
      "+----+\n",
      "|2014|\n",
      "+----+\n",
      "\n"
     ]
    }
   ],
   "source": [
    "#Entradas distintas\n",
    "withColumn_df.select('ano').distinct().show()"
   ]
  },
  {
   "cell_type": "code",
   "execution_count": null,
   "metadata": {},
   "outputs": [],
   "source": []
  }
 ],
 "metadata": {
  "interpreter": {
   "hash": "df2200dee145ff7c6e232ad6818eb60138979836ff39ce2d211180956d5762a5"
  },
  "kernelspec": {
   "display_name": "Python 3.9.7 64-bit",
   "language": "python",
   "name": "python3"
  },
  "language_info": {
   "codemirror_mode": {
    "name": "ipython",
    "version": 3
   },
   "file_extension": ".py",
   "mimetype": "text/x-python",
   "name": "python",
   "nbconvert_exporter": "python",
   "pygments_lexer": "ipython3",
   "version": "3.9.7"
  },
  "orig_nbformat": 4
 },
 "nbformat": 4,
 "nbformat_minor": 2
}
